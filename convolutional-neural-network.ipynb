{
 "cells": [
  {
   "cell_type": "markdown",
   "id": "dec1995a",
   "metadata": {},
   "source": [
    "### Creating a Convnet"
   ]
  },
  {
   "cell_type": "markdown",
   "id": "8c9a2521",
   "metadata": {},
   "source": [
    "#### Dataset\n",
    "<li>Airplane</li>\n",
    "<li>Automobile</li>\n",
    "<li>Bird</li>\n",
    "<li>Cat</li>\n",
    "<li>Deer</li>\n",
    "<li>Dog</li>\n",
    "<li>Dog</li>\n",
    "<li>Frog</li>\n",
    "<li>Horse</li>\n",
    "<li>Ship</li>\n",
    "<li>Truck</li>"
   ]
  },
  {
   "cell_type": "code",
   "execution_count": 1,
   "id": "db40bc57",
   "metadata": {},
   "outputs": [],
   "source": [
    "import tensorflow as tf\n",
    "\n",
    "from tensorflow.keras import datasets, layers, models\n",
    "import matplotlib.pyplot as plt"
   ]
  },
  {
   "cell_type": "code",
   "execution_count": 2,
   "id": "d3c7577a",
   "metadata": {},
   "outputs": [
    {
     "name": "stdout",
     "output_type": "stream",
     "text": [
      "Downloading data from https://www.cs.toronto.edu/~kriz/cifar-10-python.tar.gz\n",
      "170500096/170498071 [==============================] - 1102s 6us/step\n"
     ]
    }
   ],
   "source": [
    "# Load and split dataset\n",
    "(train_images, train_labels), (test_images, test_labels) = datasets.cifar10.load_data()\n",
    "\n",
    "# Normalise pixel values to b/w 0&1\n",
    "train_images, test_images = train_images/255.0, test_images/255.0\n",
    "\n",
    "class_names = ['airplane', 'automobile', 'bird', 'cat', 'deer', 'dog', 'frog', 'horse', 'ship', 'truck']"
   ]
  },
  {
   "cell_type": "code",
   "execution_count": 17,
   "id": "c255fd76",
   "metadata": {},
   "outputs": [
    {
     "data": {
      "image/png": "[encoded data removed]",
      "text/plain": [
       "<Figure size 432x288 with 1 Axes>"
      ]
     },
     "metadata": {
      "needs_background": "light"
     },
     "output_type": "display_data"
    }
   ],
   "source": [
    "# have a look at an image\n",
    "i = 45     # change index to see different image\n",
    "\n",
    "plt.imshow(train_images[i], cmap=plt.cm.binary)\n",
    "plt.title(class_names[train_labels[i][0]])\n",
    "plt.show()"
   ]
  },
  {
   "cell_type": "markdown",
   "id": "3f519b59",
   "metadata": {},
   "source": [
    "## CNN Architecture\n",
    "<p>A common architecture for a CNN is a stack of conv2D and maxPooling2D layers followed by few densly connected layers.</p>"
   ]
  },
  {
   "cell_type": "code",
   "execution_count": 8,
   "id": "1de0e1ce",
   "metadata": {},
   "outputs": [],
   "source": [
    "model = models.Sequential()\n",
    "model.add(layers.Conv2D(32, (3, 3), activation = 'relu', input_shape = (32, 32, 3)))\n",
    "model.add(layers.MaxPooling2D((2, 2)))\n",
    "model.add(layers.Conv2D(64, (3, 3), activation = 'relu'))\n",
    "model.add(layers.MaxPool2D((2, 2)))\n",
    "model.add(layers.Conv2D(64, (3, 3), activation='relu'))"
   ]
  },
  {
   "cell_type": "markdown",
   "id": "2a9d4434",
   "metadata": {},
   "source": [
    "#### Layer 1\n",
    "<p>The input shape of data will be 32, 32, 3 and will process 32 filters of size 3X3 over our input data.</p><br>\n",
    "\n",
    "#### Layer 2\n",
    "<p>This layer will perform the max pooling operation using 2X2 samples and a stride of 2.</p><br>\n",
    "\n",
    "#### Other Layers\n",
    "<p>They do same job, but take previous layer as input. They increase frequency of filters from 32 to 64.</p><p>Our data shrinks in spacial dimensions drastically but depth of our image increases(but we can afford it computationaly).</p>"
   ]
  },
  {
   "cell_type": "code",
   "execution_count": 9,
   "id": "3e76cb33",
   "metadata": {},
   "outputs": [
    {
     "name": "stdout",
     "output_type": "stream",
     "text": [
      "Model: \"sequential\"\n",
      "_________________________________________________________________\n",
      "Layer (type)                 Output Shape              Param #   \n",
      "=================================================================\n",
      "conv2d (Conv2D)              (None, 30, 30, 32)        896       \n",
      "_________________________________________________________________\n",
      "max_pooling2d (MaxPooling2D) (None, 15, 15, 32)        0         \n",
      "_________________________________________________________________\n",
      "conv2d_1 (Conv2D)            (None, 13, 13, 64)        18496     \n",
      "_________________________________________________________________\n",
      "max_pooling2d_1 (MaxPooling2 (None, 6, 6, 64)          0         \n",
      "_________________________________________________________________\n",
      "conv2d_2 (Conv2D)            (None, 4, 4, 64)          36928     \n",
      "=================================================================\n",
      "Total params: 56,320\n",
      "Trainable params: 56,320\n",
      "Non-trainable params: 0\n",
      "_________________________________________________________________\n"
     ]
    }
   ],
   "source": [
    "model.summary()"
   ]
  },
  {
   "cell_type": "markdown",
   "id": "0c1a9ff1",
   "metadata": {},
   "source": [
    "### Adding Dense Layers"
   ]
  },
  {
   "cell_type": "code",
   "execution_count": 10,
   "id": "f2f0eea3",
   "metadata": {},
   "outputs": [],
   "source": [
    "model.add(layers.Flatten())\n",
    "model.add(layers.Dense(64, activation='relu'))\n",
    "model.add(layers.Dense(10))"
   ]
  },
  {
   "cell_type": "code",
   "execution_count": 12,
   "id": "73891b73",
   "metadata": {},
   "outputs": [
    {
     "name": "stdout",
     "output_type": "stream",
     "text": [
      "Model: \"sequential\"\n",
      "_________________________________________________________________\n",
      "Layer (type)                 Output Shape              Param #   \n",
      "=================================================================\n",
      "conv2d (Conv2D)              (None, 30, 30, 32)        896       \n",
      "_________________________________________________________________\n",
      "max_pooling2d (MaxPooling2D) (None, 15, 15, 32)        0         \n",
      "_________________________________________________________________\n",
      "conv2d_1 (Conv2D)            (None, 13, 13, 64)        18496     \n",
      "_________________________________________________________________\n",
      "max_pooling2d_1 (MaxPooling2 (None, 6, 6, 64)          0         \n",
      "_________________________________________________________________\n",
      "conv2d_2 (Conv2D)            (None, 4, 4, 64)          36928     \n",
      "_________________________________________________________________\n",
      "flatten (Flatten)            (None, 1024)              0         \n",
      "_________________________________________________________________\n",
      "dense (Dense)                (None, 64)                65600     \n",
      "_________________________________________________________________\n",
      "dense_1 (Dense)              (None, 10)                650       \n",
      "=================================================================\n",
      "Total params: 122,570\n",
      "Trainable params: 122,570\n",
      "Non-trainable params: 0\n",
      "_________________________________________________________________\n"
     ]
    }
   ],
   "source": [
    "model.summary()"
   ]
  },
  {
   "cell_type": "markdown",
   "id": "120bae78",
   "metadata": {},
   "source": [
    "## Training"
   ]
  },
  {
   "cell_type": "code",
   "execution_count": 14,
   "id": "aeda75c0",
   "metadata": {},
   "outputs": [
    {
     "name": "stdout",
     "output_type": "stream",
     "text": [
      "Epoch 1/10\n",
      "1563/1563 [==============================] - 70s 43ms/step - loss: 1.5202 - accuracy: 0.4456 - val_loss: 1.2681 - val_accuracy: 0.5365\n",
      "Epoch 2/10\n",
      "1563/1563 [==============================] - 74s 47ms/step - loss: 1.1606 - accuracy: 0.5896 - val_loss: 1.1210 - val_accuracy: 0.5998\n",
      "Epoch 3/10\n",
      "1563/1563 [==============================] - 62s 40ms/step - loss: 1.0181 - accuracy: 0.6413 - val_loss: 0.9980 - val_accuracy: 0.6408\n",
      "Epoch 4/10\n",
      "1563/1563 [==============================] - 64s 41ms/step - loss: 0.9297 - accuracy: 0.6752 - val_loss: 0.9243 - val_accuracy: 0.6776\n",
      "Epoch 5/10\n",
      "1563/1563 [==============================] - 67s 43ms/step - loss: 0.8590 - accuracy: 0.6986 - val_loss: 0.9554 - val_accuracy: 0.6654\n",
      "Epoch 6/10\n",
      "1563/1563 [==============================] - 59s 38ms/step - loss: 0.7985 - accuracy: 0.7207 - val_loss: 0.9445 - val_accuracy: 0.6796\n",
      "Epoch 7/10\n",
      "1563/1563 [==============================] - 70s 45ms/step - loss: 0.7510 - accuracy: 0.7375 - val_loss: 0.9887 - val_accuracy: 0.6600\n",
      "Epoch 8/10\n",
      "1563/1563 [==============================] - 61s 39ms/step - loss: 0.7099 - accuracy: 0.7496 - val_loss: 0.8852 - val_accuracy: 0.6980\n",
      "Epoch 9/10\n",
      "1563/1563 [==============================] - 62s 39ms/step - loss: 0.6667 - accuracy: 0.7651 - val_loss: 0.8583 - val_accuracy: 0.7103\n",
      "Epoch 10/10\n",
      "1563/1563 [==============================] - 63s 40ms/step - loss: 0.6250 - accuracy: 0.7795 - val_loss: 0.8941 - val_accuracy: 0.7032\n"
     ]
    }
   ],
   "source": [
    "model.compile(optimizer='adam',\n",
    "             loss=tf.keras.losses.SparseCategoricalCrossentropy(from_logits=True),\n",
    "             metrics=['accuracy'])\n",
    "\n",
    "history = model.fit(train_images, train_labels, epochs=10,\n",
    "                   validation_data=(test_images, test_labels))"
   ]
  },
  {
   "cell_type": "markdown",
   "id": "aa18fb36",
   "metadata": {},
   "source": [
    "## Evaluating the Model"
   ]
  },
  {
   "cell_type": "code",
   "execution_count": 15,
   "id": "fb83a55c",
   "metadata": {},
   "outputs": [
    {
     "name": "stdout",
     "output_type": "stream",
     "text": [
      "313/313 - 3s - loss: 0.8941 - accuracy: 0.7032\n",
      "0.7031999826431274\n"
     ]
    }
   ],
   "source": [
    "test_loss, test_acc = model.evaluate(test_images, test_labels, verbose = 2)\n",
    "print(test_acc)"
   ]
  },
  {
   "cell_type": "markdown",
   "id": "5ec2bb70",
   "metadata": {},
   "source": [
    "### Working with small datasets\n",
    "#### Data Augmentation :-\n",
    "<p>To avoid overfitting and create a larger dataset from smaller one we can use a technique called as data augmentation. This is simply performing random transformations on our images so that our model can generalize better. These transformations can be things like compressions, rotations, streches, flipping and even color changes.</p>"
   ]
  },
  {
   "cell_type": "code",
   "execution_count": 18,
   "id": "11a44045",
   "metadata": {},
   "outputs": [
    {
     "data": {
      "image/png": "[encoded data removed]",
      "text/plain": [
       "<Figure size 432x288 with 1 Axes>"
      ]
     },
     "metadata": {
      "needs_background": "light"
     },
     "output_type": "display_data"
    },
    {
     "data": {
      "image/png": "[encoded data removed]",
      "text/plain": [
       "<Figure size 432x288 with 1 Axes>"
      ]
     },
     "metadata": {
      "needs_background": "light"
     },
     "output_type": "display_data"
    },
    {
     "data": {
      "image/png": "[encoded data removed]",
      "text/plain": [
       "<Figure size 432x288 with 1 Axes>"
      ]
     },
     "metadata": {
      "needs_background": "light"
     },
     "output_type": "display_data"
    },
    {
     "data": {
      "image/png": "[encoded data removed]",
      "text/plain": [
       "<Figure size 432x288 with 1 Axes>"
      ]
     },
     "metadata": {
      "needs_background": "light"
     },
     "output_type": "display_data"
    },
    {
     "data": {
      "image/png": "[encoded data removed]",
      "text/plain": [
       "<Figure size 432x288 with 1 Axes>"
      ]
     },
     "metadata": {
      "needs_background": "light"
     },
     "output_type": "display_data"
    }
   ],
   "source": [
    "from keras.preprocessing import image\n",
    "from keras.preprocessing.image import ImageDataGenerator\n",
    "\n",
    "# creates a data generator object that transforms images\n",
    "datagen = ImageDataGenerator(\n",
    "rotation_range=40,\n",
    "width_shift_range=0.2,\n",
    "height_shift_range=0.2,\n",
    "shear_range=0.2,\n",
    "zoom_range=0.2,\n",
    "horizontal_flip=True,\n",
    "fill_mode='nearest')\n",
    "\n",
    "# pick an image to transform\n",
    "test_img = train_images[20]\n",
    "img = image.img_to_array(test_img)  # convert image to numpy arry\n",
    "img = img.reshape((1,) + img.shape)  # reshape image\n",
    "\n",
    "i = 0\n",
    "\n",
    "for batch in datagen.flow(img, save_prefix='test', save_format='jpeg'):  # this loops runs forever until we break, saving images to current directory with specified prefix\n",
    "    plt.figure(i)\n",
    "    plot = plt.imshow(image.img_to_array(batch[0]))\n",
    "    i += 1\n",
    "    if i > 4:  # show 4 images\n",
    "        break\n",
    "plt.title(class_names[train_labels[i][0]])\n",
    "plt.show()"
   ]
  },
  {
   "cell_type": "code",
   "execution_count": null,
   "id": "2ba431cd",
   "metadata": {},
   "outputs": [],
   "source": []
  }
 ],
 "metadata": {
  "kernelspec": {
   "display_name": "Python 3",
   "language": "python",
   "name": "python3"
  },
  "language_info": {
   "codemirror_mode": {
    "name": "ipython",
    "version": 3
   },
   "file_extension": ".py",
   "mimetype": "text/x-python",
   "name": "python",
   "nbconvert_exporter": "python",
   "pygments_lexer": "ipython3",
   "version": "3.8.10"
  }
 },
 "nbformat": 4,
 "nbformat_minor": 5
}
